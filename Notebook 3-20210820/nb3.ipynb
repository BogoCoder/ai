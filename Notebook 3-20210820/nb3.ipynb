{
 "cells": [
  {
   "cell_type": "markdown",
   "metadata": {
    "colab_type": "text",
    "id": "TpmFfXsQ0dYI"
   },
   "source": [
    "<table>\n",
    "    <tr>\n",
    "        <td><img src=\"./imagenes/Macc.png\" width=\"400\"/></td>\n",
    "        <td>&nbsp;</td>\n",
    "        <td>\n",
    "            <h1 style=\"color:blue;text-align:left\">Inteligencia Artificial</h1></td>\n",
    "        <td>\n",
    "            <table><tr>\n",
    "            <tp><p style=\"font-size:150%;text-align:center\">Notebook 3</p></tp>\n",
    "            <tp><p style=\"font-size:150%;text-align:center\">Búsqueda en espacio de estados (2/3) </p></tp>\n",
    "            </tr></table>\n",
    "        </td>\n",
    "    </tr>\n",
    "</table>\n",
    "\n",
    "---"
   ]
  },
  {
   "cell_type": "markdown",
   "metadata": {
    "colab_type": "text",
    "id": "V3SkDSWJ0dYJ"
   },
   "source": [
    "## Objetivo\n",
    "\n",
    "En este notebook vamos a expandir el abanico de algoritmos de búsqueda a ciegas en un espacio de estados y luego vamos a incluir la consideración del costo del camino a seguir. \n",
    "\n",
    "Comenzaremos implementando los algoritmos `depth_limited_search` e `iterative_deepening_search` y los aplicaremos a la solución de problemas. \n",
    "\n",
    "A continuación, para poder considerar el costo del camino a seguir, vamos a \n",
    "definir una lista prioritaria y mostraremos una posible implementación en Python. Analizaremos también la manera en la cual tanto el ambiente de tarea como el árbol de busqueda involucran el costo de las acciones. \n",
    "\n",
    "Posteriormente, definiremos el algoritmo general de búsqueda basada en funciones de evaluación, llamado `best_first_search` para encontrar la solución más eficiente en el problema de las jarras de agua.\n",
    "\n",
    "Finalmente, usaremos los cuatro métodos para comparar su eficiencia en la búsqueda de una solución para el problema del laberinto.\n",
    "\n",
    "Adaptado de (Russell & Norvig, 2020), secciones 3.3 y 3.4.4."
   ]
  },
  {
   "cell_type": "markdown",
   "metadata": {
    "colab_type": "text",
    "id": "5HnQ_gA70dYL"
   },
   "source": [
    "## Secciones\n",
    "\n",
    "Desarrollaremos la explicación de la siguiente manera:\n",
    "\n",
    "* [Estrategia de búsqueda depth limited](#limited).\n",
    "* [Estrategia de búsqueda iterative deepening](#iterative).\n",
    "* [Listas prioritarias](#listas).\n",
    "* [Costos](#costos).\n",
    "* [Estrategia de búsqueda best first search](#best).\n",
    "* [Problema del laberinto](#laberinto).\n",
    "\n"
   ]
  },
  {
   "cell_type": "markdown",
   "metadata": {},
   "source": [
    "## Depth limited search <a class=\"anchor\" id=\"limited\"></a>\n",
    "    \n",
    "En el notebook anterior hemos visto un algoritmo recursivo de `backtracking_search` que funcionaba bien en el caso de las 8 reinas, pero que superaba el umbral de memoria en el problema de las jarras de agua. Esta dificultad residía en el hecho de que el camino de búsqueda puede generar ciclos, lo cual conlleva a que el algoritmo se quede atascado en un bucle infinito. La solución que dimos en su momento fue el algoritmo `depth_first_search`, el cual lleva la cuenta de cuáles nodos se exploran, de tal manera que no se vuelva a explorar un nodo ya explorado.\n",
    "\n",
    "Un compromiso entre la solución eficiente en memoria del `backtracking_search` y del efectivo `depth_limited_search` es el `depth_limited_search`. En este algoritmo tendremos una profundidad límite para los nodos, que nunca podremos superar. Además, no guardaremos en memoria una lista de cuáles nodos ya revisamos, sino que usaremos una función para verificar si el nodo que estamos explorando se generó mediante un camino cíclico. \n",
    "\n",
    "La complejidad en tiempo de este algoritmo es, en el peor de los casos, igual a los algoritmos `depth_first_search` y `breadth_first_search`. No obstante, el hecho de no guardar una lista de frontera hace que la complejidad en memoria sea lineal, es decir, mucho mejor que la de aquellos algoritmos. \n",
    "\n",
    "Antes de mirar el pseudocódigo del algoritmo, consideremos con más detalle cómo encontrar la profundidad de un nodo y cómo verificar si proviene de un camino cíclico.\n",
    "\n",
    "La profundidad de un nodo, también conocida como su altura, es la cantidad de aristas desde la raíz hasta él. Por tanto, la raíz tiene profundidad 0, sus hijos tienen profundidad 1, los hijos de sus hijos tienen profundidad 2, etc.\n",
    "\n",
    "Recuerde que un nodo es un objeto con atributos `estado`, `madre`, `accion`, `costo_camino`, `codigo`.\n"
   ]
  },
  {
   "cell_type": "code",
   "execution_count": 1,
   "metadata": {},
   "outputs": [],
   "source": [
    "from ambientes import JarrasAgua\n",
    "from busqueda import *"
   ]
  },
  {
   "cell_type": "markdown",
   "metadata": {},
   "source": [
    "**Ejercicio 1:**\n",
    "\n",
    "Implemente la función recursiva `depth` que recibe un nodo y retorna su profundidad (altura). Pruebe su solución con el siguiente nodo `n3`:"
   ]
  },
  {
   "cell_type": "code",
   "execution_count": 2,
   "metadata": {},
   "outputs": [],
   "source": [
    "def depth(nodo):\n",
    "    if nodo.madre == None:\n",
    "        return 0\n",
    "    else:\n",
    "        return depth(nodo.madre) + 1"
   ]
  },
  {
   "cell_type": "code",
   "execution_count": 3,
   "metadata": {},
   "outputs": [],
   "source": [
    "prob = JarrasAgua()\n",
    "s = prob.estado_inicial\n",
    "n = Nodo(s, None, None, 0, prob.codigo(s))\n",
    "n1 = nodo_hijo(prob, n, 1)\n",
    "n2 = nodo_hijo(prob, n1, 5)\n",
    "n3 = nodo_hijo(prob, n2, 6)"
   ]
  },
  {
   "cell_type": "code",
   "execution_count": 4,
   "metadata": {},
   "outputs": [
    {
     "output_type": "execute_result",
     "data": {
      "text/plain": [
       "3"
      ]
     },
     "metadata": {},
     "execution_count": 4
    }
   ],
   "source": [
    "depth(n3)"
   ]
  },
  {
   "cell_type": "markdown",
   "metadata": {},
   "source": [
    "**Ejercicio 2:**\n",
    "\n",
    "Implemente la función `is_cycle` que toma un nodo y devuelve un valor de verdad, dependiendo si el camino desde la raíz hasta él tiene ciclos. Pruebe su función con el nodo `n3` definido anteriormente. "
   ]
  },
  {
   "cell_type": "markdown",
   "metadata": {},
   "source": [
    "**Ayuda:** Pruebe definiendo primero una función recursiva que encuentra los códigos de todos los nodos en el camino y luego verifique si hay nodos repetidos."
   ]
  },
  {
   "cell_type": "code",
   "execution_count": 5,
   "metadata": {},
   "outputs": [],
   "source": [
    "def find_codes(nodo):\n",
    "    if nodo.madre == None:\n",
    "        return [nodo.codigo]\n",
    "    else:\n",
    "        return find_codes(nodo.madre) + [nodo.codigo]"
   ]
  },
  {
   "cell_type": "code",
   "execution_count": 6,
   "metadata": {},
   "outputs": [],
   "source": [
    "def is_cycle(nodo):\n",
    "    codigos = find_codes(nodo)\n",
    "    return len(set(codigos)) != len(codigos)\n",
    "    "
   ]
  },
  {
   "cell_type": "code",
   "execution_count": 7,
   "metadata": {},
   "outputs": [
    {
     "output_type": "execute_result",
     "data": {
      "text/plain": [
       "['0-0', '4-0', '1-3', '4-0']"
      ]
     },
     "metadata": {},
     "execution_count": 7
    }
   ],
   "source": [
    "find_codes(n3)"
   ]
  },
  {
   "cell_type": "code",
   "execution_count": 8,
   "metadata": {},
   "outputs": [
    {
     "output_type": "execute_result",
     "data": {
      "text/plain": [
       "True"
      ]
     },
     "metadata": {},
     "execution_count": 8
    }
   ],
   "source": [
    "is_cycle(n3)"
   ]
  },
  {
   "cell_type": "markdown",
   "metadata": {},
   "source": [
    "El siguiente es el pseudocódigo del algoritmo de búsqueda `depth_limited_search`:\n",
    "\n",
    "<div style=\"background-color:rgba(0, 0, 0, 0.0470588); padding:10px 0;font-family:monospace;\">\n",
    "<font style=\"font-weight: bold;\" color = \"red\">function</font> depth_limited_search(<font style=\"font-style: italic;\">problema</font>, <font style=\"font-style: italic;\">l</font>) <font style=\"font-weight: bold;\" color = \"red\">returns</font> solución o falla o cutoff <br>\n",
    "&nbsp;&nbsp; <font style=\"font-style: italic;\">nodo</font> &#8592; NODO(<font style=\"font-style: italic;\">problema</font>.estado_inicial) <br>\n",
    "&nbsp;&nbsp; <font style=\"font-style: italic;\">frontera</font> &#8592; lista LIFO con <font style=\"font-style: italic;\">nodo</font> como único elemento <br>\n",
    "&nbsp;&nbsp; <font style=\"font-style: italic;\">resultado</font> &#8592; falla <br>\n",
    "&nbsp;&nbsp; <font style=\"font-weight: bold;\" color = \"red\">While not</font> VACIA(<font style=\"font-style: italic;\">frontera</font>) <font style=\"font-weight: bold;\" color = \"red\">do</font> <br> \n",
    "&nbsp;&nbsp;&nbsp;&nbsp; <font style=\"font-style: italic;\">nodo</font> &#8592; POP(<font style=\"font-style: italic;\">frontera</font>) <br>\n",
    "&nbsp;&nbsp;&nbsp;&nbsp; <font style=\"font-weight: bold;\" color = \"red\">if</font> <font style=\"font-style: italic;\">problema</font>.test_objetivo(<font style=\"font-style: italic;\">nodo</font>.estado) <font style=\"font-weight: bold;\" color = \"red\">then return</font> <font style=\"font-style: italic;\">nodo</font> <br>\n",
    "&nbsp;&nbsp;&nbsp;&nbsp; <font style=\"font-weight: bold;\" color = \"red\">if</font> DEPTH(<font style=\"font-style: italic;\">nodo</font>) &#62;= <font style=\"font-style: italic;\">l</font> <font style=\"font-weight: bold;\" color = \"red\">then</font> <br>\n",
    "&nbsp;&nbsp;&nbsp;&nbsp;&nbsp;&nbsp; <font style=\"font-style: italic;\">resultado</font> &#8592; cutoff <br>\n",
    "&nbsp;&nbsp;&nbsp;&nbsp;&nbsp;&nbsp; <font style=\"font-weight: bold;\" color = \"red\">if not</font> IS_CYCLE(<font style=\"font-style: italic;\">nodo</font>) <font style=\"font-weight: bold;\" color = \"red\">do</font> <br> \n",
    "&nbsp;&nbsp;&nbsp;&nbsp;&nbsp;&nbsp;&nbsp;&nbsp; <font style=\"font-weight: bold;\" color = \"red\">for each</font> <font style=\"font-style: italic;\">hijo</font> <font style=\"font-weight: bold;\" color = \"red\">in</font> EXPAND(<font style=\"font-style: italic;\">problema</font>, <font style=\"font-style: italic;\">nodo</font>) <font style=\"font-weight: bold;\" color = \"red\">do</font> <br>\n",
    "&nbsp;&nbsp;&nbsp;&nbsp;&nbsp;&nbsp;&nbsp;&nbsp;&nbsp;&nbsp; ADD(<font style=\"font-style: italic;\">hijo</font>, <font style=\"font-style: italic;\">frontera</font>)<br>\n",
    "&nbsp;&nbsp; <font style=\"font-weight: bold;\" color = \"red\">return</font> falla <br>\n",
    "</div>\n",
    "\n",
    "<div style=\"background-color:rgba(0, 0, 0, 0.0470588); padding:10px 0;font-family:monospace;\">\n",
    "<font style=\"font-weight: bold;\" color = \"red\">function</font> EXPAND(<font style=\"font-style: italic;\">problema</font>, <font style=\"font-style: italic;\">nodo</font>) <font style=\"font-weight: bold;\" color = \"red\">returns</font> <font style=\"font-style: italic;\">nodos</font> <br>\n",
    "&nbsp;&nbsp; <font style=\"font-style: italic;\">s</font> &#8592; <font style=\"font-style: italic;\">nodo</font>.estado <br>\n",
    "&nbsp;&nbsp;  <font style=\"font-style: italic;\">nodos</font> &#8592; lista LIFO vacía <br>\n",
    "&nbsp;&nbsp;  <font style=\"font-weight: bold;\" color = \"red\">for each</font> <font style=\"font-style: italic;\">accion</font> <font style=\"font-weight: bold;\" color = \"red\">in</font> <font style=\"font-style: italic;\">problema</font>.acciones_aplicables(<font style=\"font-style: italic;\">s</font>) <font style=\"font-weight: bold;\" color = \"red\">do</font> <br>\n",
    "&nbsp;&nbsp;&nbsp;&nbsp;  <font style=\"font-style: italic;\">hijo</font> &#8592; nodo_hijo(<font style=\"font-style: italic;\">problema</font>, <font style=\"font-style: italic;\">nodo</font>, <font style=\"font-style: italic;\">accion</font>) <br>\n",
    "&nbsp;&nbsp;&nbsp;&nbsp; ADD(<font style=\"font-style: italic;\">hijo</font>, <font style=\"font-style: italic;\">nodos</font>)<br>\n",
    "&nbsp;&nbsp; <font style=\"font-weight: bold;\" color = \"red\">return</font> nodos <br>\n",
    "</div>\n",
    "\n",
    "Hay dos anotaciones importantes que debemos mencionar aquí. Observe que para expandir un nodo se está usando una lista obtenida mediante la función `expand`, la cual proporciona todos los nodos hijo que se obtienen a partir de un nodo madre mediante cada una de las acciones aplicables. Además, la verificación de la prueba de satisfacción de objetivo se realiza al explorar la frontera, no al expandir un nodo. Sobre esto volveremos más adelante.\n"
   ]
  },
  {
   "cell_type": "markdown",
   "metadata": {},
   "source": [
    "**Ejercicio 3:**\n",
    "\n",
    "Implemente el algoritmo de búsqueda `depth_limited_search` e intente resolver el problema de las jarras de agua a profundidad 4, 5, 6 y 10."
   ]
  },
  {
   "cell_type": "code",
   "execution_count": 9,
   "metadata": {},
   "outputs": [],
   "source": [
    "def expand(problema, nodo):\n",
    "    s = nodo.estado\n",
    "    nodos = []\n",
    "    for accion in problema.acciones_aplicables(s):\n",
    "        hijo = nodo_hijo(problema, nodo, accion)\n",
    "        nodos.append(hijo)\n",
    "\n",
    "    return nodos\n",
    "\n",
    "def depth_limited_search(problema, l):\n",
    "    initial_code = problema.codigo(problema.estado_inicial)\n",
    "    nodo = Nodo(problema.estado_inicial, None, None, 0, initial_code)\n",
    "    frontera = [nodo]\n",
    "    resultado = None\n",
    "    while len(frontera) != 0:\n",
    "        nodo = frontera.pop()\n",
    "        if problema.test_objetivo(nodo.estado):\n",
    "            return nodo\n",
    "        if depth(nodo) >= l:\n",
    "            resultado = 'cutoff'\n",
    "        elif not is_cycle(nodo):\n",
    "            frontera += expand(problema, nodo)\n",
    "    return resultado"
   ]
  },
  {
   "cell_type": "code",
   "execution_count": 10,
   "metadata": {},
   "outputs": [
    {
     "output_type": "stream",
     "name": "stdout",
     "text": [
      "Sin solución a profundidad: 4\nSin solución a profundidad: 5\nSolución en profundidad 6: [2, 6, 2, 6, 3, 6]\nSolución en profundidad 10: [2, 6, 2, 6, 4, 5, 4, 5, 1, 5]\n"
     ]
    }
   ],
   "source": [
    "profundidades = [4, 5, 6, 10]\n",
    "\n",
    "for p in profundidades:\n",
    "    found = depth_limited_search(prob, p)\n",
    "    if found is not None:\n",
    "        if found == 'cutoff':\n",
    "            print(\"Sin solución a profundidad: {}\".format(p))\n",
    "        else:\n",
    "            camino = solucion(found)\n",
    "            print(\"Solución en profundidad {}: {}\".format(p, camino))\n",
    "    else: \n",
    "        print('Sin solución definitiva')"
   ]
  },
  {
   "cell_type": "markdown",
   "metadata": {},
   "source": [
    "---"
   ]
  },
  {
   "cell_type": "markdown",
   "metadata": {},
   "source": [
    "## Iterative deepening search <a class=\"anchor\" id=\"iterative\"></a>\n",
    "\n",
    "Cuando no conocemos la profundidad a la que se encuentra la solución, dar un límite cualquiera puede no ser adecuado. Por ejemplo, podemos dar una profundidad muy pandita y corremos el riesgo de no encontrar la solución. Resulta más sistemático ejecutar esta búsqueda intentando todas las profundidades: primero profundidad 0, luego 1, luego 2, etc. De esta manera, podremos tener la seguridad de encontrar la solución óptima (a menor profundidad). \n",
    "\n",
    "El siguiente es un esquema de este algoritmo de búsqueda:\n",
    "\n",
    "<img src=\"./imagenes/iterative-deepening.png\" width=\"500px\"/>\n",
    "\n",
    "Y el siguiente es el pseudocódigo respectivo:\n",
    "\n",
    "<div style=\"background-color:rgba(0, 0, 0, 0.0470588); padding:10px 0;font-family:monospace;\">\n",
    "<font style=\"font-weight: bold;\" color = \"red\">function</font> iterative_deepening_search(<font style=\"font-style: italic;\">problema</font>, <font style=\"font-style: italic;\">l_max</font>) <font style=\"font-weight: bold;\" color = \"red\">returns</font> solución o falla <br>\n",
    "&nbsp;&nbsp; <font style=\"font-weight: bold;\" color = \"red\">For</font> <font style=\"font-style: italic;\">depth</font> = 0 <font style=\"font-weight: bold;\" color = \"red\">to</font> <font style=\"font-style: italic;\">l_max</font> <font style=\"font-weight: bold;\" color = \"red\">do</font> <br> \n",
    "&nbsp;&nbsp;&nbsp;&nbsp; <font style=\"font-style: italic;\">resultado</font> &#8592; depth_limited_search(<font style=\"font-style: italic;\">problema</font>, <font style=\"font-style: italic;\">depth</font>) <br>\n",
    "&nbsp;&nbsp;&nbsp;&nbsp; <font style=\"font-weight: bold;\" color = \"red\">if</font> <font style=\"font-style: italic;\">resultado</font> &#8800; cutoff <font style=\"font-weight: bold;\" color = \"red\">then return</font> <font style=\"font-style: italic;\">resultado</font> <br>\n",
    "</div>\n"
   ]
  },
  {
   "cell_type": "markdown",
   "metadata": {},
   "source": [
    "**Ejercicio 4:**\n",
    "\n",
    "Implemente la función `iterative_deepening_search`y resuelva el problema de las jarras de agua con profundidad máxima 10."
   ]
  },
  {
   "cell_type": "code",
   "execution_count": 11,
   "metadata": {},
   "outputs": [],
   "source": [
    "def iterative_deepening_search(problema, l_max):\n",
    "    for depth in range(0, l_max + 1):\n",
    "        print(\"Profundidad máxima:\", depth)\n",
    "        resultado = depth_limited_search(problema, depth)\n",
    "        if resultado != 'cutoff':\n",
    "            return resultado"
   ]
  },
  {
   "cell_type": "code",
   "execution_count": 12,
   "metadata": {},
   "outputs": [
    {
     "output_type": "stream",
     "name": "stdout",
     "text": [
      "Profundidad máxima: 0\nProfundidad máxima: 1\nProfundidad máxima: 2\nProfundidad máxima: 3\nProfundidad máxima: 4\nProfundidad máxima: 5\nProfundidad máxima: 6\nSolución encontrada:  [2, 6, 2, 6, 3, 6]\n"
     ]
    }
   ],
   "source": [
    "l = iterative_deepening_search(prob, 10)\n",
    "\n",
    "if l is not None:\n",
    "    camino = solucion(l)\n",
    "    print(\"Solución encontrada: \", camino)\n",
    "else:\n",
    "    print(\"No hay solución.\")"
   ]
  },
  {
   "cell_type": "markdown",
   "metadata": {},
   "source": [
    "---"
   ]
  },
  {
   "cell_type": "markdown",
   "metadata": {},
   "source": [
    "## Listas prioritarias <a class=\"anchor\" id=\"listas\"></a>\n",
    "\n",
    "En una lista prioritaria, los elementos tienen una prioridad de acuerdo a su respectivo valor de acuerdo a una función de evaluación $f$. De esta manera, la acción POP remueve y retorna el elemento prioritario, que es aquel con valor mínimo de acuerdo a $f$. Cuando dos elementos tienen la misma prioridad, el último elemento en ser incluido es el primero en salir.\n",
    "\n",
    "Existen librerías que proporcionan objetos que implementan listas prioritarias, como <a href=\"https://pypi.org/project/HeapDict/\">heapdict</a>. Aquí utilizaremos el siguiente objeto `ListaPrioritaria` para implementar las listas prioritarias:"
   ]
  },
  {
   "cell_type": "code",
   "execution_count": 13,
   "metadata": {},
   "outputs": [],
   "source": [
    "import numpy as np\n",
    "\n",
    "class ListaPrioritaria():\n",
    "    \n",
    "    def __init__(self):\n",
    "        self.diccionario = {}\n",
    "        \n",
    "    def __str__(self):\n",
    "        cadena = '['\n",
    "        inicial = True\n",
    "        for costo in self.diccionario:\n",
    "            elementos = self.diccionario[costo]\n",
    "            for elemento in elementos:\n",
    "                if inicial:\n",
    "                    cadena += '(' + str(elemento) + ',' + str(costo) + ')'\n",
    "                    inicial = False\n",
    "                else:\n",
    "                    cadena += ', (' + str(elemento) + ',' + str(costo) + ')'\n",
    "\n",
    "        return cadena + ']'\n",
    "    \n",
    "    def push(self, elemento, costo):\n",
    "        try:\n",
    "            self.diccionario[costo].append(elemento)\n",
    "        except:\n",
    "            self.diccionario[costo] = [elemento]\n",
    "            \n",
    "    def pop(self):\n",
    "        min_costo = np.min(np.array(list(self.diccionario.keys())))\n",
    "        candidatos = self.diccionario[min_costo]\n",
    "        elemento = candidatos.pop()\n",
    "        if len(candidatos) == 0:\n",
    "            del self.diccionario[min_costo]\n",
    "        return elemento\n",
    "    \n",
    "    def is_empty(self):\n",
    "        return len(self.diccionario) == 0\n",
    "        "
   ]
  },
  {
   "cell_type": "markdown",
   "metadata": {},
   "source": [
    "La idea detrás de este objeto es mantener un diccionario con los costos como keys, y los valores como listas de elementos que tienen el costo del respectivo key. De esta manera, al llamar el método `pop`, se busca la key mínima y se hace pop a la lista que es su respectivo valor de acuerdo al diccionario.\n",
    "\n",
    "Vamos a incluir algunos elementos en nuestra lista. Observe que incluimos las prioridades manualmente, sin recurrir a una función $f$:"
   ]
  },
  {
   "cell_type": "code",
   "execution_count": 14,
   "metadata": {},
   "outputs": [
    {
     "output_type": "stream",
     "name": "stdout",
     "text": [
      "La lista prioritaria: [(g,2), (s,2), (e,3), (k,1)]\n"
     ]
    }
   ],
   "source": [
    "lista = ListaPrioritaria()\n",
    "lista.push('g', 2)\n",
    "lista.push('e', 3)\n",
    "lista.push('k', 1)\n",
    "lista.push('s', 2)\n",
    "print(\"La lista prioritaria:\", lista)"
   ]
  },
  {
   "cell_type": "markdown",
   "metadata": {},
   "source": [
    "Observe que los elementos no se visualizan en orden. Tampoco se visualiza la forma real del diccionario, la cual se puede observar así:\n"
   ]
  },
  {
   "cell_type": "code",
   "execution_count": 15,
   "metadata": {},
   "outputs": [
    {
     "output_type": "stream",
     "name": "stdout",
     "text": [
      "El diccionario subyacente: {2: ['g', 's'], 3: ['e'], 1: ['k']}\n"
     ]
    }
   ],
   "source": [
    "print(\"El diccionario subyacente:\", lista.diccionario)"
   ]
  },
  {
   "cell_type": "markdown",
   "metadata": {},
   "source": [
    "A pesar de que los valores no están en orden, el método `pop` devuelve el elemento prioritario:"
   ]
  },
  {
   "cell_type": "code",
   "execution_count": 16,
   "metadata": {},
   "outputs": [
    {
     "output_type": "execute_result",
     "data": {
      "text/plain": [
       "'k'"
      ]
     },
     "metadata": {},
     "execution_count": 16
    }
   ],
   "source": [
    "n = lista.pop()\n",
    "n"
   ]
  },
  {
   "cell_type": "markdown",
   "metadata": {},
   "source": [
    "Observe que tanto 'g' como 's' tienen la misma prioridad. No obstante, 's' fue el último en ser incluido en `lista` y, por lo tanto, es el primero en salir:\n"
   ]
  },
  {
   "cell_type": "code",
   "execution_count": 17,
   "metadata": {},
   "outputs": [
    {
     "output_type": "stream",
     "name": "stdout",
     "text": [
      "La lista prioritaria: [(g,2), (s,2), (e,3)]\nAl hacer pop con dos elementos con el mismo valor se obtiene: s\n"
     ]
    }
   ],
   "source": [
    "print(\"La lista prioritaria:\", lista)\n",
    "print(\"Al hacer pop con dos elementos con el mismo valor se obtiene:\", lista.pop())"
   ]
  },
  {
   "cell_type": "markdown",
   "metadata": {},
   "source": [
    "Para determinar si la lista prioritaria está vacía, usamos el método `is_empty`."
   ]
  },
  {
   "cell_type": "code",
   "execution_count": 18,
   "metadata": {},
   "outputs": [
    {
     "output_type": "stream",
     "name": "stdout",
     "text": [
      "La lista prioritaria: [(g,2), (e,3)]\nLista vacía? False\n"
     ]
    }
   ],
   "source": [
    "print(\"La lista prioritaria:\", lista)\n",
    "print(\"Lista vacía?\", lista.is_empty())"
   ]
  },
  {
   "cell_type": "markdown",
   "metadata": {},
   "source": [
    "Antes de que podamos utilizar listas prioritarias en nuestras búsquedas dentro de espacios de estados, debemos entender un poco más la manera mediante la cual se ha implementado un costo a una acción en un estado dado dentro de nuestros ambientes de tarea. Esto es lo que vamos a ver a continuación."
   ]
  },
  {
   "cell_type": "markdown",
   "metadata": {},
   "source": [
    "## Costos <a class=\"anchor\" id=\"costos\"></a>\n",
    "\n",
    "**El método costo**\n",
    "\n",
    "En este apartado veremos la manera mediante la cual los ambientes de tarea involucran una función de costo, que le asigna un costo a una acción en un estado dado. Comencemos por ver esto en nuestro problema de las jarras de agua."
   ]
  },
  {
   "cell_type": "code",
   "execution_count": 19,
   "metadata": {},
   "outputs": [
    {
     "output_type": "stream",
     "name": "stdout",
     "text": [
      "Acciones aplicables: [1, 2]\n"
     ]
    }
   ],
   "source": [
    "prob = JarrasAgua()\n",
    "s = prob.estado_inicial\n",
    "prob.pintar_estado(s)\n",
    "print(\"Acciones aplicables:\", prob.acciones_aplicables(s))"
   ]
  },
  {
   "cell_type": "code",
   "execution_count": 20,
   "metadata": {},
   "outputs": [
    {
     "output_type": "stream",
     "name": "stdout",
     "text": [
      "Costo de aplicar la accion 1 a s: 1\nCosto de aplicar la accion 2 a s: 1\n"
     ]
    }
   ],
   "source": [
    "print(\"Costo de aplicar la accion 1 a s:\", prob.costo(s, 1))\n",
    "print(\"Costo de aplicar la accion 2 a s:\", prob.costo(s, 2))"
   ]
  },
  {
   "cell_type": "markdown",
   "metadata": {},
   "source": [
    "Como podemos ver, el ambiente de tarea tiene un método `costo`, que permite asignar un costo a una acción en un estado dado. Al revisar el código en la librería ambientes, podemos observar que este método está definido de la siguiente manera:\n",
    "\n",
    "`def costo(self, estado, accion):\n",
    "\t\treturn 1`\n",
    "\n",
    "Esto es, se le asigna el mismo costo unitario a cualquier acción aplicable en cualquier estado.\n",
    "\n",
    "**El atributo costo_camino**\n",
    "\n",
    "Además de este método asociado a un ambiente de tarea, tenemos también el atributo `costo_camino` de los objetos `Nodo`. Repetimos aquí la definición de los nodos para poder observar un aspecto importante."
   ]
  },
  {
   "cell_type": "code",
   "execution_count": 21,
   "metadata": {},
   "outputs": [],
   "source": [
    "class Nodo:\n",
    "    \n",
    "    # Clase para crear los nodos\n",
    "    \n",
    "    def __init__(self, estado, madre, accion, costo_camino, codigo):\n",
    "        self.estado = estado\n",
    "        self.madre = madre\n",
    "        self.accion = accion\n",
    "        self.costo_camino = costo_camino\n",
    "        self.codigo = codigo\n",
    "        \n",
    "def nodo_hijo(problema, madre, accion):\n",
    "    \n",
    "    # Función para crear un nuevo nodo\n",
    "    # Input: problema, que es un objeto de clase ocho_reinas\n",
    "    #        madre, que es un nodo,\n",
    "    #        accion, que es una acción que da lugar al estado del nuevo nodo\n",
    "    # Output: nodo\n",
    "    \n",
    "    estado = problema.transicion(madre.estado, accion)\n",
    "    costo_camino = madre.costo_camino + problema.costo(madre.estado, accion)\n",
    "    codigo = problema.codigo(estado)\n",
    "    return Nodo(estado, madre, accion, costo_camino, codigo)\n",
    "\n",
    "def solucion(n):\n",
    "    if n.madre == None:\n",
    "        return []\n",
    "    else:\n",
    "        return solucion(n.madre) + [n.accion]"
   ]
  },
  {
   "cell_type": "markdown",
   "metadata": {},
   "source": [
    "Observe que en la función `nodo_hijo`, la cual crea el nodo hijo que se obtiene al expandir un nodo madre mediante una acción `s`, esta función calcula el `costo_camino` del nodo hijo sumándole el `costo_camino` del nodo madre más el costo que el ambiente de tarea le atribuye a la acción `s` en el estado del nodo madre.\n",
    "\n",
    "Veamos esto con un ejemplo:"
   ]
  },
  {
   "cell_type": "code",
   "execution_count": 22,
   "metadata": {},
   "outputs": [
    {
     "output_type": "stream",
     "name": "stdout",
     "text": [
      "Costo camino de la raíz a n = 0\nCosto camino de la raíz a n1 = 1\nCosto camino de la raíz a n2 = 2\nCosto camino de la raíz a n3 = 3\n"
     ]
    }
   ],
   "source": [
    "n = Nodo(s, None, None, 0, prob.codigo(s))\n",
    "n1 = nodo_hijo(prob, n, 1)\n",
    "n2 = nodo_hijo(prob, n1, 5)\n",
    "n3 = nodo_hijo(prob, n2, 3)\n",
    "print(\"Costo camino de la raíz a n =\", n.costo_camino)\n",
    "print(\"Costo camino de la raíz a n1 =\", n1.costo_camino)\n",
    "print(\"Costo camino de la raíz a n2 =\", n2.costo_camino)\n",
    "print(\"Costo camino de la raíz a n3 =\", n3.costo_camino)"
   ]
  },
  {
   "cell_type": "markdown",
   "metadata": {},
   "source": [
    "**Modificar el método costos**\n",
    "\n",
    "Para un problema dado, debe ser claro que podemos definir distintos métodos de costo. En nuestro problema, en lugar del costo unitario que hemos visto anteriormente, podríamos definir un costo basado en el uso eficiente del agua. Por ejemplo, podemos definir la siguiente función, la cual calcula cuánta agua se utilizó para llenar las jarras y se le suma el agua que se desperdició (otros cálculos distintos, basados en otros criterios, son posibles): "
   ]
  },
  {
   "cell_type": "code",
   "execution_count": 23,
   "metadata": {},
   "outputs": [],
   "source": [
    "def desperdicio(self, estado, accion):\n",
    "    x, y = estado\n",
    "    if accion == 1:\n",
    "        costo = 4 - x # usa 4-x litros de agua\n",
    "    if accion == 2:\n",
    "        costo = 3 - y # usa 3-y litros de agua\n",
    "    if accion == 3:\n",
    "        costo = x # desperdicia x litros de agua\n",
    "    if accion == 4:\n",
    "        costo = y # desperdicia y litros de agua\n",
    "    if accion == 5:\n",
    "        costo = 0\n",
    "    if accion == 6:\n",
    "        costo = 0\n",
    "    return costo\n"
   ]
  },
  {
   "cell_type": "markdown",
   "metadata": {},
   "source": [
    "Y luego añadirla para reemplazar el método `costo` del problema de las jarras de agua:"
   ]
  },
  {
   "cell_type": "code",
   "execution_count": 24,
   "metadata": {},
   "outputs": [],
   "source": [
    "setattr(JarrasAgua,\"costo\", desperdicio)"
   ]
  },
  {
   "cell_type": "markdown",
   "metadata": {},
   "source": [
    "Observe cómo se modifican los `costo_camino` de los mismos nodos que hemos revisado hace un momento:"
   ]
  },
  {
   "cell_type": "code",
   "execution_count": 25,
   "metadata": {},
   "outputs": [
    {
     "output_type": "stream",
     "name": "stdout",
     "text": [
      "Costo camino de la raíz a n = 0\nCosto camino de la raíz a n1 = 4\nCosto camino de la raíz a n2 = 4\nCosto camino de la raíz a n3 = 5\n"
     ]
    }
   ],
   "source": [
    "prob = JarrasAgua()\n",
    "s = prob.estado_inicial\n",
    "n = Nodo(s, None, None, 0, prob.codigo(s))\n",
    "n1 = nodo_hijo(prob, n, 1)\n",
    "n2 = nodo_hijo(prob, n1, 5)\n",
    "n3 = nodo_hijo(prob, n2, 3)\n",
    "print(\"Costo camino de la raíz a n =\", n.costo_camino)\n",
    "print(\"Costo camino de la raíz a n1 =\", n1.costo_camino)\n",
    "print(\"Costo camino de la raíz a n2 =\", n2.costo_camino)\n",
    "print(\"Costo camino de la raíz a n3 =\", n3.costo_camino)"
   ]
  },
  {
   "cell_type": "markdown",
   "metadata": {},
   "source": [
    "**Ejercicio 5:**\n",
    "\n",
    "Cree una lista prioritaria `frontera` con los cuatro nodos anteriores y su respectivo `costo_camino` (obtenido mediante el atributo respectivo, no incluido a mano)."
   ]
  },
  {
   "cell_type": "code",
   "execution_count": 26,
   "metadata": {},
   "outputs": [
    {
     "output_type": "stream",
     "name": "stdout",
     "text": [
      "La lista prioritaria: [(<__main__.Nodo object at 0x0000025CDBC76550>,0), (<__main__.Nodo object at 0x0000025CDBC76670>,4), (<__main__.Nodo object at 0x0000025CDBC76880>,4), (<__main__.Nodo object at 0x0000025CDBC76E20>,5)]\n"
     ]
    }
   ],
   "source": [
    "frontera = ListaPrioritaria()\n",
    "frontera.push(n, n.costo_camino)\n",
    "frontera.push(n1, n1.costo_camino)\n",
    "frontera.push(n2, n2.costo_camino)\n",
    "frontera.push(n3, n3.costo_camino)\n",
    "print(\"La lista prioritaria:\", frontera)"
   ]
  },
  {
   "cell_type": "markdown",
   "metadata": {},
   "source": [
    "---"
   ]
  },
  {
   "cell_type": "markdown",
   "metadata": {
    "colab_type": "text",
    "id": "UgFieF2s0dY2"
   },
   "source": [
    "## Best first search <a class=\"anchor\" id=\"best\"></a>\n",
    "\n",
    "Ya estamos listos para presentar el algoritmo general de búsqueda `best_first_search`. Todos los algoritmos subsiguientes serán un caso particular de este. Solamente modificaremos la función de evaluación $f$. En algunos casos será una función de costos, en otros casos será una función heurística y, en otros, será una combinación de las dos. Pero no nos adelantemos al tema.\n",
    "\n",
    "El algoritmo de búsqueda basado en una función de evaluación es similar a nuestro algoritmo (no recursivo) `depth_first_search`. En este último vamos generando una frontera, que es una lista LIFO, para ir expandiendo primero el nodo de mayor profundidad. En el algoritmo `best_first_search` expandimos primero el nodo prioritario de la frontera, que es una lista prioritaria.\n",
    "\n",
    "El siguiente es el pseudocódigo del algoritmo:\n",
    "\n",
    "<div style=\"background-color:rgba(0, 0, 0, 0.0470588); padding:10px 0;font-family:monospace;\">\n",
    "<font style=\"font-weight: bold;\" color = \"red\">function</font> best_first_search(<font style=\"font-style: italic;\">problema</font>, <font style=\"font-style: italic;\">f</font>) <font style=\"font-weight: bold;\" color = \"red\">returns</font> <font style=\"font-style: italic;\">nodo</font> o falla <br>\n",
    "&nbsp;&nbsp; <font style=\"font-style: italic;\">problema</font>.costo &#8592; <font style=\"font-style: italic;\">f</font> <br>\n",
    "&nbsp;&nbsp; <font style=\"font-style: italic;\">s</font> &#8592; <font style=\"font-style: italic;\">problema</font>.estado_inicial <br>\n",
    "&nbsp;&nbsp; <font style=\"font-style: italic;\">cod</font> &#8592; <font style=\"font-style: italic;\">problema</font>.codigo(<font style=\"font-style: italic;\">s</font>) <br>\n",
    "&nbsp;&nbsp; <font style=\"font-style: italic;\">nodo</font> &#8592; NODO(<font style=\"font-style: italic;\">s</font>) <br>\n",
    "&nbsp;&nbsp; <font style=\"font-style: italic;\">frontera</font> &#8592; lista prioritaria con 1 item con key <font style=\"font-style: italic;\">nodo</font> y valor 0<br>\n",
    "&nbsp;&nbsp; <font style=\"font-style: italic;\">explorados</font> &#8592; diccionario con 1 item con key <font style=\"font-style: italic;\">cod</font> y valor 0 <br>\n",
    "&nbsp;&nbsp; <font style=\"font-weight: bold;\" color = \"red\">While not</font> VACIA(<font style=\"font-style: italic;\">frontera</font>) <font style=\"font-weight: bold;\" color = \"red\">do</font> <br> \n",
    "&nbsp;&nbsp;&nbsp;&nbsp; <font style=\"font-style: italic;\">nodo</font> &#8592; POP(<font style=\"font-style: italic;\">frontera</font>) <br>\n",
    "&nbsp;&nbsp;&nbsp;&nbsp; <font style=\"font-weight: bold;\" color = \"red\">if</font> <font style=\"font-style: italic;\">problema</font>.test_objetivo(<font style=\"font-style: italic;\">nodo</font>.estado) <font style=\"font-weight: bold;\" color = \"red\">then return</font> <font style=\"font-style: italic;\">nodo</font> <br>\n",
    "&nbsp;&nbsp;&nbsp;&nbsp; <font style=\"font-weight: bold;\" color = \"red\">for each</font> <font style=\"font-style: italic;\">hijo</font> <font style=\"font-weight: bold;\" color = \"red\">in</font> EXPAND(<font style=\"font-style: italic;\">problema</font>, <font style=\"font-style: italic;\">nodo</font>) <font style=\"font-weight: bold;\" color = \"red\">do</font> <br>\n",
    "&nbsp;&nbsp;&nbsp;&nbsp;&nbsp;&nbsp; <font style=\"font-style: italic;\">s</font> &#8592; <font style=\"font-style: italic;\">hijo</font>.estado<br>\n",
    "&nbsp;&nbsp;&nbsp;&nbsp;&nbsp;&nbsp; <font style=\"font-style: italic;\">cod</font> &#8592; <font style=\"font-style: italic;\">problema</font>.codigo(<font style=\"font-style: italic;\">s</font>) <br>\n",
    "&nbsp;&nbsp;&nbsp;&nbsp;&nbsp;&nbsp; <font style=\"font-style: italic;\">c</font> &#8592; <font style=\"font-style: italic;\">hijo</font>.costo_camino <br>\n",
    "&nbsp;&nbsp;&nbsp;&nbsp;&nbsp;&nbsp; <font style=\"font-weight: bold;\" color = \"red\">if</font> <font style=\"font-style: italic;\">cod</font> <font style=\"font-weight: bold;\" color = \"red\">not in</font> <font style=\"font-style: italic;\">explorados</font>.keys <font style=\"font-weight: bold;\" color = \"red\">or</font> <font style=\"font-style: italic;\">c</font> &#60; <font style=\"font-style: italic;\">explorados</font>[<font style=\"font-style: italic;\">cod</font>] <font style=\"font-weight: bold;\" color = \"red\">then</font> <br>\n",
    "&nbsp;&nbsp;&nbsp;&nbsp;&nbsp;&nbsp;&nbsp;&nbsp; <font style=\"font-style: italic;\">frontera</font>[<font style=\"font-style: italic;\">hijo</font>] &#8592; <font style=\"font-style: italic;\">c</font> <br>\n",
    "&nbsp;&nbsp;&nbsp;&nbsp;&nbsp;&nbsp;&nbsp;&nbsp; <font style=\"font-style: italic;\">explorados</font>[<font style=\"font-style: italic;\">cod</font>] &#8592; <font style=\"font-style: italic;\">c</font> <br>\n",
    "    &nbsp;&nbsp; <font style=\"font-weight: bold;\" color = \"red\">return</font> falla <br>\n",
    "</div>\n",
    "\n",
    "El algoritmo comienza por asignar la función $f$ como el método `costo` del objeto problema. Este paso es importante, toda vez que los algorimos que vamos a considerar subsiguientemente utilizarán distintos tipos de función de evaluación.\n",
    "\n",
    "Posteriormente, el algoritmo toma el estado inicial, le calcula su código y, luego, crea el nodo raiz. A continuación, inicia la lista `frontera` como una lista prioritaria. También inicializa el diccionario `explorados` mediante el cual se van a relacionar los estados con el `costo_camino` asociado al camino en el árbol de búsqueda. Este diccionario permitirá tanto llevar la cuenta de cuáles estados hemos visitado, como de asociar el costo en que se incurre para llegar hasta un estado particular partiendo desde el estado inicial. Observe que el algoritmo permite incluir estados repetidos siempre y cuando se llegue a estos mediante caminos menos costos de los obtenidos anteriormente.\n"
   ]
  },
  {
   "cell_type": "markdown",
   "metadata": {},
   "source": [
    "**Ejercicio 6:**\n",
    "\n",
    "Implemente el anterior pseudocódigo para codificar la función `best_first_search`, con argumentos `problema` y una función de costo dada $f$."
   ]
  },
  {
   "cell_type": "code",
   "execution_count": 27,
   "metadata": {},
   "outputs": [],
   "source": [
    "def best_first_search(problema, f=None):\n",
    "    if f is not None:\n",
    "        setattr(JarrasAgua, \"costo\", f)\n",
    "    s = problema.estado_inicial\n",
    "    cod = problema.codigo(s)\n",
    "    nodo = Nodo(s, None, None, 0, problema.codigo(s))\n",
    "    frontera = ListaPrioritaria()\n",
    "    frontera.push(nodo, 0)\n",
    "    explorados = {}\n",
    "    explorados[cod] = 0\n",
    "    while not frontera.is_empty():\n",
    "        nodo = frontera.pop()\n",
    "        if problema.test_objetivo(nodo.estado):\n",
    "            return nodo\n",
    "        for hijo in expand(problema, nodo):\n",
    "            s = hijo.estado\n",
    "            cod = problema.codigo(s)\n",
    "            c = hijo.costo_camino\n",
    "            if (cod not in explorados.keys()) or c < explorados[cod]:\n",
    "                frontera.push(hijo, c)\n",
    "                explorados[cod] = c\n",
    "    return None"
   ]
  },
  {
   "cell_type": "markdown",
   "metadata": {},
   "source": [
    "---"
   ]
  },
  {
   "cell_type": "markdown",
   "metadata": {},
   "source": [
    "**Ejercicio 7:**\n",
    "\n",
    "Utilice el algoritmo `best_first_search` para solucionar el problema de las jarras de agua. Observe que la solución encontrada es óptima en términos de cantidad de acciones a realizar.\n",
    "\n",
    "Utilice la siguiente función como el argumento $f$ del algoritmo de búsqueda."
   ]
  },
  {
   "cell_type": "code",
   "execution_count": 48,
   "metadata": {},
   "outputs": [],
   "source": [
    "def costo_acciones(self, estado, accion):\n",
    "    return 1"
   ]
  },
  {
   "cell_type": "code",
   "execution_count": 49,
   "metadata": {},
   "outputs": [
    {
     "output_type": "stream",
     "name": "stdout",
     "text": [
      "Solución: [1, 5, 4, 5, 1, 5]\n"
     ]
    }
   ],
   "source": [
    "found_bfs = best_first_search(prob, costo_acciones))\n",
    "    camino = solucio(found)\n",
    "    print(\"Solufound_bfs {}\".format(camino))\n",
    "else: \n",
    "    print('Sin solución definitiva')"
   ]
  },
  {
   "cell_type": "markdown",
   "metadata": {},
   "source": [
    "---"
   ]
  },
  {
   "cell_type": "markdown",
   "metadata": {},
   "source": [
    "Observe que el costo de la solución anterior, en términos de desperdicio, es 11. Esto dice que entre el agua introducida y el agua desechada suman 11 litros de agua:"
   ]
  },
  {
   "cell_type": "code",
   "execution_count": 38,
   "metadata": {},
   "outputs": [
    {
     "output_type": "stream",
     "name": "stdout",
     "text": [
      "Costo camino de la raíz a n6 = 11\n"
     ]
    }
   ],
   "source": [
    "prob = JarrasAgua()\n",
    "setattr(prob,\"costo\", desperdicio)\n",
    "s = prob.estado_inicial\n",
    "n = Nodo(s, None, None, 0, prob.codigo(s))\n",
    "n1 = nodo_hijo(prob, n, 1)\n",
    "n2 = nodo_hijo(prob, n1, 5)\n",
    "n3 = nodo_hijo(prob, n2, 4)\n",
    "n4 = nodo_hijo(prob, n3, 5)\n",
    "n5 = nodo_hijo(prob, n4, 1)\n",
    "n6 = nodo_hijo(prob, n5, 5)\n",
    "print(\"Costo camino de la raíz a n6 =\", n5.costo_camino)"
   ]
  },
  {
   "cell_type": "markdown",
   "metadata": {},
   "source": [
    "**Ejercicio 8:**\n",
    "\n",
    "Encuentre una solución óptima en términos de desperdicio."
   ]
  },
  {
   "cell_type": "code",
   "execution_count": 41,
   "metadata": {},
   "outputs": [
    {
     "output_type": "stream",
     "name": "stdout",
     "text": [
      "Solución: [2, 6, 2, 6, 3, 6]\n"
     ]
    }
   ],
   "source": [
    "found_bfs = best_first_search(prob, desperdicio)\n",
    "if found is not None:\n",
    "    camino = solucion(found_bfs)\n",
    "    print(\"Solución: {}\".format(camino))\n",
    "else: \n",
    "    print('Sin solución definitiva')"
   ]
  },
  {
   "cell_type": "code",
   "execution_count": 44,
   "metadata": {},
   "outputs": [
    {
     "output_type": "stream",
     "name": "stdout",
     "text": [
      "Costo camino de la raíz a n6 = 10\n"
     ]
    }
   ],
   "source": [
    "prob = JarrasAgua()\n",
    "setattr(JarrasAgua,\"costo\", desperdicio)\n",
    "s = prob.estado_inicial\n",
    "n = Nodo(s, None, None, 0, prob.codigo(s))\n",
    "n1 = nodo_hijo(prob, n, 2)\n",
    "n2 = nodo_hijo(prob, n1, 6)\n",
    "n3 = nodo_hijo(prob, n2, 2)\n",
    "n4 = nodo_hijo(prob, n3, 6)\n",
    "n5 = nodo_hijo(prob, n4, 3)\n",
    "n6 = nodo_hijo(prob, n5, 6)\n",
    "print(\"Costo camino de la raíz a n6 =\", n5.costo_camino)"
   ]
  },
  {
   "cell_type": "markdown",
   "metadata": {},
   "source": [
    "---"
   ]
  },
  {
   "cell_type": "markdown",
   "metadata": {},
   "source": [
    "## El problema del laberinto <a class=\"anchor\" id=\"laberinto\"></a>\n",
    "\n",
    "Imagine un agente dentro de un laberinto, el cual consiste de una rejilla de doce por doce casillas. El laberinto tiene solo una casilla que sirve de entrada y de salida, que es la casilla $(0,0)$. Esta es la única forma de salir o de entrar al laberinto. Cada rejilla es o bien un pasadizo o bien un muro. El agente puede moverse 1 casilla en dirección vertical u horizontal (nunca diagonal) siempre y cuando la casilla a la que se mueva no sea un muro o el fin de la rejilla. El agente tiene a su disposición un mapa del laberinto y la localización en la que se encuentra.\n",
    "\n",
    "<img src=\"./imagenes/laberinto1.png\" width=\"350px\"/>\n",
    "\n",
    "El problema consiste en, dada una posición dentro del laberinto, encontrar un camino que lo lleve hasta la salida."
   ]
  },
  {
   "cell_type": "markdown",
   "metadata": {},
   "source": [
    "**Ejercicio 9:**\n",
    "\n",
    "Complete la definición formal del problema del laberinto:    \n",
    "\n",
    "* **Estado inicial**: \n",
    "\n",
    "Posición inicial del agente.\n",
    "\n",
    "* **Posibles acciones**: \n",
    "\n",
    "Moverse una casilla en dirección vertical u horizontal siempre y cuando la casilla a la que se mueva no sea un muro o el fin de la rejilla.\n",
    "\n",
    "* **Función de transiciones**: \n",
    "\n",
    "Una acción es moverse, entonces la transición es la posición del agente después de moverse.\n",
    "\n",
    "* **Prueba de satisfacción del objetivo**: \n",
    "\n",
    "¿Posición es la casilla (0,0) (salida)?\n",
    "\n",
    "* **Función de costo**: \n",
    "\n",
    "Cantidad de acciones hasta la salida.\n"
   ]
  },
  {
   "cell_type": "markdown",
   "metadata": {},
   "source": [
    "---"
   ]
  },
  {
   "cell_type": "code",
   "execution_count": 50,
   "metadata": {},
   "outputs": [],
   "source": [
    "from ambientes import Laberinto"
   ]
  },
  {
   "cell_type": "code",
   "execution_count": 53,
   "metadata": {},
   "outputs": [
    {
     "output_type": "execute_result",
     "data": {
      "text/plain": [
       "<AxesSubplot:>"
      ]
     },
     "metadata": {},
     "execution_count": 53
    }
   ],
   "source": [
    "inicia = (0,3)\n",
    "lab = Laberinto(inicia)\n",
    "s = lab.estado_inicial\n",
    "lab.pintar_estado(s)"
   ]
  },
  {
   "cell_type": "markdown",
   "metadata": {},
   "source": [
    "Observe que el método `pintar_camino` permite visualizar el movimiento del agente dentro del laberinto:"
   ]
  },
  {
   "cell_type": "code",
   "execution_count": 54,
   "metadata": {},
   "outputs": [
    {
     "output_type": "display_data",
     "data": {
      "text/plain": "<Figure size 800x800 with 1 Axes>",
      "image/svg+xml": "<?xml version=\"1.0\" encoding=\"utf-8\" standalone=\"no\"?>\r\n<!DOCTYPE svg PUBLIC \"-//W3C//DTD SVG 1.1//EN\"\r\n  \"http://www.w3.org/Graphics/SVG/1.1/DTD/svg11.dtd\">\r\n<svg height=\"460.4292pt\" version=\"1.1\" viewBox=\"0 0 460.962 460.4292\" width=\"460.962pt\" xmlns=\"http://www.w3.org/2000/svg\" xmlns:xlink=\"http://www.w3.org/1999/xlink\">\r\n <metadata>\r\n  <rdf:RDF xmlns:cc=\"http://creativecommons.org/ns#\" xmlns:dc=\"http://purl.org/dc/elements/1.1/\" xmlns:rdf=\"http://www.w3.org/1999/02/22-rdf-syntax-ns#\">\r\n   <cc:Work>\r\n    <dc:type rdf:resource=\"http://purl.org/dc/dcmitype/StillImage\"/>\r\n    <dc:date>2021-08-22T23:49:29.938271</dc:date>\r\n    <dc:format>image/svg+xml</dc:format>\r\n    <dc:creator>\r\n     <cc:Agent>\r\n      <dc:title>Matplotlib v3.4.2, https://matplotlib.org/</dc:title>\r\n     </cc:Agent>\r\n    </dc:creator>\r\n   </cc:Work>\r\n  </rdf:RDF>\r\n </metadata>\r\n <defs>\r\n  <style type=\"text/css\">*{stroke-linecap:butt;stroke-linejoin:round;}</style>\r\n </defs>\r\n <g id=\"figure_1\">\r\n  <g id=\"patch_1\">\r\n   <path d=\"M 0 460.4292 \r\nL 460.962 460.4292 \r\nL 460.962 0 \r\nL 0 0 \r\nz\r\n\" style=\"fill:#ffffff;\"/>\r\n  </g>\r\n  <g id=\"axes_1\">\r\n   <g id=\"patch_2\">\r\n    <path clip-path=\"url(#p1ec972882f)\" d=\"M 7.362 450.72 \r\nL 452.8692 450.72 \r\nL 452.8692 8.08704 \r\nL 7.362 8.08704 \r\nz\r\n\" style=\"fill:#fff8dc;stroke:#000000;stroke-linejoin:miter;stroke-width:2;\"/>\r\n   </g>\r\n   <g id=\"patch_3\">\r\n    <path clip-path=\"url(#p1ec972882f)\" d=\"M 118.962 44.16 \r\nL 156.162 44.16 \r\nL 156.162 7.2 \r\nL 118.962 7.2 \r\nz\r\n\"/>\r\n   </g>\r\n   <g id=\"patch_4\">\r\n    <path clip-path=\"url(#p1ec972882f)\" d=\"M 44.562 81.12 \r\nL 81.762 81.12 \r\nL 81.762 44.16 \r\nL 44.562 44.16 \r\nz\r\n\"/>\r\n   </g>\r\n   <g id=\"patch_5\">\r\n    <path clip-path=\"url(#p1ec972882f)\" d=\"M 118.962 81.12 \r\nL 156.162 81.12 \r\nL 156.162 44.16 \r\nL 118.962 44.16 \r\nz\r\n\"/>\r\n   </g>\r\n   <g id=\"patch_6\">\r\n    <path clip-path=\"url(#p1ec972882f)\" d=\"M 44.562 118.08 \r\nL 81.762 118.08 \r\nL 81.762 81.12 \r\nL 44.562 81.12 \r\nz\r\n\"/>\r\n   </g>\r\n   <g id=\"patch_7\">\r\n    <path clip-path=\"url(#p1ec972882f)\" d=\"M 118.962 118.08 \r\nL 156.162 118.08 \r\nL 156.162 81.12 \r\nL 118.962 81.12 \r\nz\r\n\"/>\r\n   </g>\r\n   <g id=\"patch_8\">\r\n    <path clip-path=\"url(#p1ec972882f)\" d=\"M 267.762 118.08 \r\nL 304.962 118.08 \r\nL 304.962 81.12 \r\nL 267.762 81.12 \r\nz\r\n\"/>\r\n   </g>\r\n   <g id=\"patch_9\">\r\n    <path clip-path=\"url(#p1ec972882f)\" d=\"M 118.962 155.04 \r\nL 156.162 155.04 \r\nL 156.162 118.08 \r\nL 118.962 118.08 \r\nz\r\n\"/>\r\n   </g>\r\n   <g id=\"patch_10\">\r\n    <path clip-path=\"url(#p1ec972882f)\" d=\"M 156.162 155.04 \r\nL 193.362 155.04 \r\nL 193.362 118.08 \r\nL 156.162 118.08 \r\nz\r\n\"/>\r\n   </g>\r\n   <g id=\"patch_11\">\r\n    <path clip-path=\"url(#p1ec972882f)\" d=\"M 193.362 155.04 \r\nL 230.562 155.04 \r\nL 230.562 118.08 \r\nL 193.362 118.08 \r\nz\r\n\"/>\r\n   </g>\r\n   <g id=\"patch_12\">\r\n    <path clip-path=\"url(#p1ec972882f)\" d=\"M 118.962 192 \r\nL 156.162 192 \r\nL 156.162 155.04 \r\nL 118.962 155.04 \r\nz\r\n\"/>\r\n   </g>\r\n   <g id=\"patch_13\">\r\n    <path clip-path=\"url(#p1ec972882f)\" d=\"M 342.162 192 \r\nL 379.362 192 \r\nL 379.362 155.04 \r\nL 342.162 155.04 \r\nz\r\n\"/>\r\n   </g>\r\n   <g id=\"patch_14\">\r\n    <path clip-path=\"url(#p1ec972882f)\" d=\"M 416.562 192 \r\nL 453.762 192 \r\nL 453.762 155.04 \r\nL 416.562 155.04 \r\nz\r\n\"/>\r\n   </g>\r\n   <g id=\"patch_15\">\r\n    <path clip-path=\"url(#p1ec972882f)\" d=\"M 193.362 228.96 \r\nL 230.562 228.96 \r\nL 230.562 192 \r\nL 193.362 192 \r\nz\r\n\"/>\r\n   </g>\r\n   <g id=\"patch_16\">\r\n    <path clip-path=\"url(#p1ec972882f)\" d=\"M 267.762 228.96 \r\nL 304.962 228.96 \r\nL 304.962 192 \r\nL 267.762 192 \r\nz\r\n\"/>\r\n   </g>\r\n   <g id=\"patch_17\">\r\n    <path clip-path=\"url(#p1ec972882f)\" d=\"M 118.962 265.92 \r\nL 156.162 265.92 \r\nL 156.162 228.96 \r\nL 118.962 228.96 \r\nz\r\n\"/>\r\n   </g>\r\n   <g id=\"patch_18\">\r\n    <path clip-path=\"url(#p1ec972882f)\" d=\"M 156.162 265.92 \r\nL 193.362 265.92 \r\nL 193.362 228.96 \r\nL 156.162 228.96 \r\nz\r\n\"/>\r\n   </g>\r\n   <g id=\"patch_19\">\r\n    <path clip-path=\"url(#p1ec972882f)\" d=\"M 230.562 265.92 \r\nL 267.762 265.92 \r\nL 267.762 228.96 \r\nL 230.562 228.96 \r\nz\r\n\"/>\r\n   </g>\r\n   <g id=\"patch_20\">\r\n    <path clip-path=\"url(#p1ec972882f)\" d=\"M 267.762 265.92 \r\nL 304.962 265.92 \r\nL 304.962 228.96 \r\nL 267.762 228.96 \r\nz\r\n\"/>\r\n   </g>\r\n   <g id=\"patch_21\">\r\n    <path clip-path=\"url(#p1ec972882f)\" d=\"M 342.162 265.92 \r\nL 379.362 265.92 \r\nL 379.362 228.96 \r\nL 342.162 228.96 \r\nz\r\n\"/>\r\n   </g>\r\n   <g id=\"patch_22\">\r\n    <path clip-path=\"url(#p1ec972882f)\" d=\"M 379.362 265.92 \r\nL 416.562 265.92 \r\nL 416.562 228.96 \r\nL 379.362 228.96 \r\nz\r\n\"/>\r\n   </g>\r\n   <g id=\"patch_23\">\r\n    <path clip-path=\"url(#p1ec972882f)\" d=\"M 44.562 302.88 \r\nL 81.762 302.88 \r\nL 81.762 265.92 \r\nL 44.562 265.92 \r\nz\r\n\"/>\r\n   </g>\r\n   <g id=\"patch_24\">\r\n    <path clip-path=\"url(#p1ec972882f)\" d=\"M 342.162 302.88 \r\nL 379.362 302.88 \r\nL 379.362 265.92 \r\nL 342.162 265.92 \r\nz\r\n\"/>\r\n   </g>\r\n   <g id=\"patch_25\">\r\n    <path clip-path=\"url(#p1ec972882f)\" d=\"M 44.562 339.84 \r\nL 81.762 339.84 \r\nL 81.762 302.88 \r\nL 44.562 302.88 \r\nz\r\n\"/>\r\n   </g>\r\n   <g id=\"patch_26\">\r\n    <path clip-path=\"url(#p1ec972882f)\" d=\"M 156.162 339.84 \r\nL 193.362 339.84 \r\nL 193.362 302.88 \r\nL 156.162 302.88 \r\nz\r\n\"/>\r\n   </g>\r\n   <g id=\"patch_27\">\r\n    <path clip-path=\"url(#p1ec972882f)\" d=\"M 342.162 339.84 \r\nL 379.362 339.84 \r\nL 379.362 302.88 \r\nL 342.162 302.88 \r\nz\r\n\"/>\r\n   </g>\r\n   <g id=\"patch_28\">\r\n    <path clip-path=\"url(#p1ec972882f)\" d=\"M 416.562 339.84 \r\nL 453.762 339.84 \r\nL 453.762 302.88 \r\nL 416.562 302.88 \r\nz\r\n\"/>\r\n   </g>\r\n   <g id=\"patch_29\">\r\n    <path clip-path=\"url(#p1ec972882f)\" d=\"M 267.762 376.8 \r\nL 304.962 376.8 \r\nL 304.962 339.84 \r\nL 267.762 339.84 \r\nz\r\n\"/>\r\n   </g>\r\n   <g id=\"patch_30\">\r\n    <path clip-path=\"url(#p1ec972882f)\" d=\"M 342.162 376.8 \r\nL 379.362 376.8 \r\nL 379.362 339.84 \r\nL 342.162 339.84 \r\nz\r\n\"/>\r\n   </g>\r\n   <g id=\"patch_31\">\r\n    <path clip-path=\"url(#p1ec972882f)\" d=\"M 44.562 413.76 \r\nL 81.762 413.76 \r\nL 81.762 376.8 \r\nL 44.562 376.8 \r\nz\r\n\"/>\r\n   </g>\r\n   <g id=\"patch_32\">\r\n    <path clip-path=\"url(#p1ec972882f)\" d=\"M 193.362 413.76 \r\nL 230.562 413.76 \r\nL 230.562 376.8 \r\nL 193.362 376.8 \r\nz\r\n\"/>\r\n   </g>\r\n   <g id=\"patch_33\">\r\n    <path clip-path=\"url(#p1ec972882f)\" d=\"M 267.762 413.76 \r\nL 304.962 413.76 \r\nL 304.962 376.8 \r\nL 267.762 376.8 \r\nz\r\n\"/>\r\n   </g>\r\n   <g id=\"patch_34\">\r\n    <path clip-path=\"url(#p1ec972882f)\" d=\"M 342.162 413.76 \r\nL 379.362 413.76 \r\nL 379.362 376.8 \r\nL 342.162 376.8 \r\nz\r\n\"/>\r\n   </g>\r\n   <g id=\"patch_35\">\r\n    <path clip-path=\"url(#p1ec972882f)\" d=\"M 379.362 413.76 \r\nL 416.562 413.76 \r\nL 416.562 376.8 \r\nL 379.362 376.8 \r\nz\r\n\"/>\r\n   </g>\r\n   <g id=\"patch_36\">\r\n    <path clip-path=\"url(#p1ec972882f)\" d=\"M 44.562 450.72 \r\nL 81.762 450.72 \r\nL 81.762 413.76 \r\nL 44.562 413.76 \r\nz\r\n\"/>\r\n   </g>\r\n   <image height=\"27.36\" id=\"imagee211437cd4\" transform=\"scale(1 -1)translate(0 -27.36)\" width=\"27.36\" x=\"13.95\" xlink:href=\"data:image/png;base64,\r\niVBORw0KGgoAAAANSUhEUgAAACYAAAAmCAYAAACoPemuAAACOElEQVR4nGNgGAWjYBSMAqIAI4zhVRAaO5AOgYFtE1YvRhGQaDT/T0tw7qDA//9vGf4fOHDg/+kzZ/8/ffr0/79//1DUSDSa/4e5Bx5i/////y/ZZEHHsMEEW5PnMhjL6DCiCMJcjC3kkMXwhSwhdejyP3//grMlGs3/P/v4Eh5iTNhcLtlkwYAr9HalLmRgYGBgSF1dRZR6ZLnndSdQzGFjYcUZelgd9rzuBNyQzdf2wi1gYGBgcJsdz8DAwMCw5fo+nIYig/9ofHRzcHkIq8MYGBgY6nZOYGBgYGDw1XLGcDQp4AWSJ5EdQcgcnIn/SPYqhs3X9jJ07p9JkkMoAecKNjFI8YszMjAwMLDgUmQzNYyAMf8ZkPwFByxMzAx//v0l0UmYZuGMSsIA01ExRgEMj2uOkhzd2MwiuhxDt4yQ2tdf3jHo9XmR5DyiopIYRyEiADMqRHmEiDILZh567sUblZJ8YhgGSSCFFGYEwCwyx+oIdP7F59dxmoUzKklJJ5jRCglBmBmZa2sZpgc341CLUI8clTgLWMoAI4oj8DsKoR4ZEJXGiAWkZBBCAGddSQ6A1YvY6kaI2H+iYwNLiEHiW7LJgmohANOXax1PtB4sIYaIb3SHEPItrgob1iiocs4i2nNEFbCkhhxmFBIHSC5gSY1CxTZ7hvtVB0nSgw6omith4Mefn2Slxy+/vmEK0rozQgxA7ozAQ8z4o3y8T3E4mWFEHWDMIM+wleHkgLphFIyCUTDkAADutDQTP5E+pwAAAABJRU5ErkJggg==\" y=\"-419.1192\"/>\r\n   <image height=\"33.12\" id=\"image6696d61c7b\" transform=\"scale(1 -1)translate(0 -33.12)\" width=\"33.12\" x=\"11.2\" xlink:href=\"data:image/png;base64,\r\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\" y=\"-416.1092\"/>\r\n  </g>\r\n </g>\r\n <defs>\r\n  <clipPath id=\"p1ec972882f\">\r\n   <rect height=\"443.52\" width=\"446.4\" x=\"7.362\" y=\"7.2\"/>\r\n  </clipPath>\r\n </defs>\r\n</svg>\r\n",
      "image/png": "[encoded data removed]"
     },
     "metadata": {}
    }
   ],
   "source": [
    "camino = [(0,3), (0,2), (0,1), (0,0)]\n",
    "lab.pintar_camino(camino)"
   ]
  },
  {
   "cell_type": "markdown",
   "metadata": {},
   "source": [
    "**Ejercicio 10:**\n",
    "\n",
    "Resuelva el problema del laberinto iniciando en la casilla $(11,11)$ mediante los cuatro métodos `breadth_first_search`, `depth_first_search`, `iterative_deepening_search` y `best_first_search` con la función de costo uniforme. ¿Cuál es más rápido? ¿Cuál da una solución óptima?"
   ]
  },
  {
   "cell_type": "code",
   "execution_count": 55,
   "metadata": {},
   "outputs": [
    {
     "output_type": "execute_result",
     "data": {
      "text/plain": [
       "<AxesSubplot:>"
      ]
     },
     "metadata": {},
     "execution_count": 55
    }
   ],
   "source": [
    "inicia = (11,11)\n",
    "lab = Laberinto(inicia)\n",
    "s = lab.estado_inicial\n",
    "lab.pintar_estado(s)"
   ]
  },
  {
   "cell_type": "code",
   "execution_count": 77,
   "metadata": {},
   "outputs": [
    {
     "output_type": "error",
     "ename": "KeyboardInterrupt",
     "evalue": "",
     "traceback": [
      "\u001b[1;31m---------------------------------------------------------------------------\u001b[0m",
      "\u001b[1;31mKeyboardInterrupt\u001b[0m                         Traceback (most recent call last)",
      "\u001b[1;32m<ipython-input-77-e0104ac02a24>\u001b[0m in \u001b[0;36m<module>\u001b[1;34m\u001b[0m\n\u001b[1;32m----> 1\u001b[1;33m \u001b[0mfbreadth\u001b[0m \u001b[1;33m=\u001b[0m \u001b[0mbreadth_first_search\u001b[0m\u001b[1;33m(\u001b[0m\u001b[0mlab\u001b[0m\u001b[1;33m)\u001b[0m\u001b[1;33m\u001b[0m\u001b[1;33m\u001b[0m\u001b[0m\n\u001b[0m",
      "\u001b[1;32md:\\workspace\\8\\ai\\n3\\busqueda.py\u001b[0m in \u001b[0;36mbreadth_first_search\u001b[1;34m(problema)\u001b[0m\n\u001b[0;32m     30\u001b[0m     \u001b[1;32mwhile\u001b[0m \u001b[0mlen\u001b[0m\u001b[1;33m(\u001b[0m\u001b[0mfrontera\u001b[0m\u001b[1;33m)\u001b[0m \u001b[1;33m>\u001b[0m \u001b[1;36m0\u001b[0m\u001b[1;33m:\u001b[0m\u001b[1;33m\u001b[0m\u001b[1;33m\u001b[0m\u001b[0m\n\u001b[0;32m     31\u001b[0m         \u001b[0mestado\u001b[0m \u001b[1;33m=\u001b[0m \u001b[0mfrontera\u001b[0m\u001b[1;33m.\u001b[0m\u001b[0mpop\u001b[0m\u001b[1;33m(\u001b[0m\u001b[1;36m0\u001b[0m\u001b[1;33m)\u001b[0m\u001b[1;33m\u001b[0m\u001b[1;33m\u001b[0m\u001b[0m\n\u001b[1;32m---> 32\u001b[1;33m         \u001b[0macciones\u001b[0m \u001b[1;33m=\u001b[0m \u001b[0mproblema\u001b[0m\u001b[1;33m.\u001b[0m\u001b[0macciones_aplicables\u001b[0m\u001b[1;33m(\u001b[0m\u001b[0mestado\u001b[0m\u001b[1;33m)\u001b[0m\u001b[1;33m\u001b[0m\u001b[1;33m\u001b[0m\u001b[0m\n\u001b[0m\u001b[0;32m     33\u001b[0m         \u001b[1;32mfor\u001b[0m \u001b[0ma\u001b[0m \u001b[1;32min\u001b[0m \u001b[0macciones\u001b[0m\u001b[1;33m:\u001b[0m\u001b[1;33m\u001b[0m\u001b[1;33m\u001b[0m\u001b[0m\n\u001b[0;32m     34\u001b[0m             \u001b[0mhijo\u001b[0m \u001b[1;33m=\u001b[0m \u001b[0mproblema\u001b[0m\u001b[1;33m.\u001b[0m\u001b[0mtransicion\u001b[0m\u001b[1;33m(\u001b[0m\u001b[0mestado\u001b[0m\u001b[1;33m,\u001b[0m \u001b[0ma\u001b[0m\u001b[1;33m)\u001b[0m\u001b[1;33m\u001b[0m\u001b[1;33m\u001b[0m\u001b[0m\n",
      "\u001b[1;31mKeyboardInterrupt\u001b[0m: "
     ]
    }
   ],
   "source": [
    "fbreadth = breadth_first_search(lab)"
   ]
  },
  {
   "cell_type": "code",
   "execution_count": 66,
   "metadata": {},
   "outputs": [
    {
     "output_type": "stream",
     "name": "stdout",
     "text": [
      "Solución [(11, 10), (11, 9), (11, 8), (10, 8), (10, 9), (10, 10), (10, 11), (9, 11), (9, 10), (9, 9), (9, 8), (8, 8), (8, 9), (8, 10), (8, 11), (7, 11), (7, 10), (6, 10), (6, 11), (5, 11), (5, 10), (5, 9), (6, 9), (6, 8), (6, 7), (5, 7), (4, 7), (4, 6), (3, 6), (2, 6), (2, 7), (1, 7), (1, 6), (1, 5), (0, 5), (0, 4), (0, 3), (0, 2), (0, 1), (0, 0)]\n"
     ]
    }
   ],
   "source": [
    "found = depth_limited_search(lab, 40)\n",
    "if found is not None:\n",
    "    if found == 'cutoff':\n",
    "        print(\"Sin solución\")\n",
    "    else:\n",
    "        camino = solucion(found)\n",
    "        print(\"Solución {}\".format(camino))\n",
    "else: \n",
    "    print('Sin solución definitiva')"
   ]
  },
  {
   "cell_type": "code",
   "execution_count": 70,
   "metadata": {},
   "outputs": [
    {
     "output_type": "stream",
     "name": "stdout",
     "text": [
      "Profundidad máxima: 0\n",
      "Profundidad máxima: 1\n",
      "Profundidad máxima: 2\n",
      "Profundidad máxima: 3\n",
      "Profundidad máxima: 4\n",
      "Profundidad máxima: 5\n",
      "Profundidad máxima: 6\n",
      "Profundidad máxima: 7\n",
      "Profundidad máxima: 8\n",
      "Profundidad máxima: 9\n",
      "Profundidad máxima: 10\n",
      "Profundidad máxima: 11\n",
      "Profundidad máxima: 12\n",
      "Profundidad máxima: 13\n",
      "Profundidad máxima: 14\n",
      "Profundidad máxima: 15\n",
      "Profundidad máxima: 16\n",
      "Profundidad máxima: 17\n",
      "Profundidad máxima: 18\n",
      "Profundidad máxima: 19\n",
      "Profundidad máxima: 20\n",
      "Profundidad máxima: 21\n",
      "Profundidad máxima: 22\n",
      "Solución encontrada:  [(11, 10), (11, 9), (11, 8), (10, 8), (10, 7), (10, 6), (9, 6), (8, 6), (8, 5), (8, 4), (8, 3), (7, 3), (6, 3), (6, 2), (5, 2), (4, 2), (3, 2), (2, 2), (1, 2), (0, 2), (0, 1), (0, 0)]\n"
     ]
    }
   ],
   "source": [
    "l = iterative_deepening_search(lab, 40)\n",
    "\n",
    "if l is not None:\n",
    "    camino = solucion(l)\n",
    "    print(\"Solución encontrada: \", camino)\n",
    "else:\n",
    "    print(\"No hay solución.\")"
   ]
  },
  {
   "cell_type": "code",
   "execution_count": 73,
   "metadata": {},
   "outputs": [
    {
     "output_type": "stream",
     "name": "stdout",
     "text": [
      "Solución: [(11, 10), (11, 9), (11, 8), (10, 8), (10, 7), (10, 6), (9, 6), (8, 6), (8, 5), (8, 4), (7, 4), (6, 4), (5, 4), (4, 4), (3, 4), (3, 3), (3, 2), (2, 2), (1, 2), (0, 2), (0, 1), (0, 0)]\n"
     ]
    }
   ],
   "source": [
    "found_bfs = best_first_search(lab)\n",
    "if found is not None:\n",
    "    camino = solucion(found_bfs)\n",
    "    print(\"Solución: {}\".format(camino))\n",
    "else: \n",
    "    print('Sin solución definitiva')"
   ]
  },
  {
   "source": [
    "El más rápido es best_first_search, con una solución óptima.\n",
    "\n",
    "iterative_deepening_search también da una solución óptima, sin embargo no es rápido.\n",
    "\n",
    "depth_first_search da una solución muy mala.\n",
    "\n",
    "breadth_first_search nunca terminó.  "
   ],
   "cell_type": "markdown",
   "metadata": {}
  },
  {
   "cell_type": "markdown",
   "metadata": {},
   "source": [
    "---"
   ]
  },
  {
   "cell_type": "markdown",
   "metadata": {},
   "source": [
    "## En este notebook usted aprendió\n",
    "\n",
    "* Cómo realizar una búsqueda mediante los métodos *depth_limited* e *iterative_deepening* e implementarlos en python.\n",
    "* Cómo implementar una lista prioritaria en Python.\n",
    "* La incorporación del costo de las acciones y el costo del camino asociado a un nodo en un árbol de búsqueda.\n"
   ]
  }
 ],
 "metadata": {
  "colab": {
   "name": "arboles_busqueda.ipynb",
   "provenance": []
  },
  "kernelspec": {
   "name": "python3",
   "display_name": "Python 3.9.6 64-bit ('artin': conda)"
  },
  "language_info": {
   "codemirror_mode": {
    "name": "ipython",
    "version": 3
   },
   "file_extension": ".py",
   "mimetype": "text/x-python",
   "name": "python",
   "nbconvert_exporter": "python",
   "pygments_lexer": "ipython3",
   "version": "3.9.6"
  },
  "interpreter": {
   "hash": "a8a66cf417da9082953ebcdda324227d3a69a87cbb50d5322b981ee7b755669d"
  }
 },
 "nbformat": 4,
 "nbformat_minor": 1
}